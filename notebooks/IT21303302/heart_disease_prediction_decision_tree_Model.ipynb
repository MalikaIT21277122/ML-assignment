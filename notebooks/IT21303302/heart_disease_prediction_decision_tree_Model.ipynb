{
 "cells": [
  {
   "cell_type": "code",
   "execution_count": 4,
   "id": "683d1f16-823e-449b-87ce-2d67bfd4965e",
   "metadata": {},
   "outputs": [
    {
     "name": "stdout",
     "output_type": "stream",
     "text": [
      "Best Parameters: {'criterion': 'entropy', 'max_depth': 10, 'min_samples_split': 2}\n",
      "Accuracy: 78.33333333333333 %\n",
      "\n",
      "Classification Report:\n",
      "               precision    recall  f1-score   support\n",
      "\n",
      "           0       0.81      0.83      0.82        35\n",
      "           1       0.75      0.72      0.73        25\n",
      "\n",
      "    accuracy                           0.78        60\n",
      "   macro avg       0.78      0.77      0.78        60\n",
      "weighted avg       0.78      0.78      0.78        60\n",
      "\n"
     ]
    },
    {
     "data": {
      "image/png": "[encoded data removed]",
      "text/plain": [
       "<Figure size 640x480 with 2 Axes>"
      ]
     },
     "metadata": {},
     "output_type": "display_data"
    },
    {
     "name": "stdout",
     "output_type": "stream",
     "text": [
      "Predicted Class (0=no disease, 1=disease): 0\n"
     ]
    }
   ],
   "source": [
    "# Step 1: Import Libraries\n",
    "import pandas as pd\n",
    "import numpy as np\n",
    "from sklearn.model_selection import train_test_split, GridSearchCV\n",
    "from sklearn.preprocessing import StandardScaler, LabelEncoder\n",
    "from sklearn.tree import DecisionTreeClassifier\n",
    "from sklearn.metrics import classification_report, confusion_matrix, accuracy_score\n",
    "import seaborn as sns\n",
    "import matplotlib.pyplot as plt\n",
    "\n",
    "# Step 2: Load Dataset\n",
    "data_path = r\"D:\\Documents\\#SLIIT\\y4\\Y4S2\\ML\\assignment\\dataset\\heart_disease_uci.csv\"\n",
    "df = pd.read_csv(data_path)\n",
    "\n",
    "# Step 3: Preprocessing\n",
    "df = df.dropna()  # Drop rows with missing values\n",
    "\n",
    "# Encode categorical variables\n",
    "categorical_cols = df.select_dtypes(include=['object']).columns\n",
    "le = LabelEncoder()\n",
    "for col in categorical_cols:\n",
    "    df[col] = le.fit_transform(df[col])\n",
    "\n",
    "# Step 4: Features & Target\n",
    "X = df.drop('num', axis=1)  # Features\n",
    "y = df['num']  # Target\n",
    "\n",
    "# Binarize target: 0 = no disease, 1 = disease\n",
    "y = np.where(y > 0, 1, 0)\n",
    "\n",
    "# Step 5: Train/Test Split\n",
    "X_train, X_test, y_train, y_test = train_test_split(X, y, test_size=0.2, random_state=42)\n",
    "\n",
    "# Step 6: Feature Scaling\n",
    "scaler = StandardScaler()\n",
    "X_train = scaler.fit_transform(X_train)\n",
    "X_test = scaler.transform(X_test)\n",
    "\n",
    "# Step 7: Model Training with Grid Search\n",
    "param_grid = {\n",
    "    'criterion': ['gini', 'entropy'],\n",
    "    'max_depth': [3, 5, 10, None],\n",
    "    'min_samples_split': [2, 5, 10]\n",
    "}\n",
    "dt = DecisionTreeClassifier(class_weight='balanced', random_state=42)\n",
    "grid = GridSearchCV(dt, param_grid, cv=5)\n",
    "grid.fit(X_train, y_train)\n",
    "\n",
    "# Save best model\n",
    "best_model = grid.best_estimator_\n",
    "\n",
    "# Step 8: Evaluation\n",
    "y_pred = best_model.predict(X_test)\n",
    "\n",
    "print(\"Best Parameters:\", grid.best_params_)\n",
    "print(\"Accuracy:\", accuracy_score(y_test, y_pred) * 100, \"%\")\n",
    "print(\"\\nClassification Report:\\n\", classification_report(y_test, y_pred, zero_division=0))\n",
    "\n",
    "# Confusion matrix\n",
    "cm = confusion_matrix(y_test, y_pred)\n",
    "sns.heatmap(cm, annot=True, fmt='d', cmap='Blues')\n",
    "plt.title(\"Confusion Matrix\")\n",
    "plt.xlabel(\"Predicted\")\n",
    "plt.ylabel(\"Actual\")\n",
    "plt.show()\n",
    "\n",
    "# Step 9: Predicting for New Input\n",
    "# Sample input data\n",
    "sample_input = {\n",
    "    'id': 999,                  # Dummy ID\n",
    "    'age': 58,\n",
    "    'sex': 1,\n",
    "    'dataset': 1,\n",
    "    'cp': 3,\n",
    "    'trestbps': 140,\n",
    "    'chol': 250,\n",
    "    'fbs': 0,\n",
    "    'restecg': 1,\n",
    "    'thalch': 170,\n",
    "    'exang': 0,\n",
    "    'oldpeak': 1.5,\n",
    "    'slope': 2,\n",
    "    'ca': 0,\n",
    "    'thal': 2\n",
    "}\n",
    "\n",
    "# Convert to DataFrame and match training column order\n",
    "sample_df = pd.DataFrame([sample_input])\n",
    "sample_df = sample_df[X.columns]  # Ensure correct column order\n",
    "\n",
    "# Scale the input\n",
    "sample_scaled = scaler.transform(sample_df)\n",
    "\n",
    "# Predict\n",
    "prediction = best_model.predict(sample_scaled)\n",
    "print(f\"Predicted Class (0=no disease, 1=disease): {prediction[0]}\")\n"
   ]
  },
  {
   "cell_type": "code",
   "execution_count": 5,
   "id": "96d22478-bb12-4885-a443-0b8a5b0a15fd",
   "metadata": {},
   "outputs": [
    {
     "name": "stdout",
     "output_type": "stream",
     "text": [
      "Model and scaler saved successfully.\n"
     ]
    }
   ],
   "source": [
    "import joblib\n",
    "\n",
    "# Save model and scaler\n",
    "joblib.dump(best_model, \"heart_disease_model.pkl\")\n",
    "joblib.dump(scaler, \"scaler.pkl\")\n",
    "print(\"Model and scaler saved successfully.\")\n"
   ]
  },
  {
   "cell_type": "code",
   "execution_count": 6,
   "id": "91b3e928-4737-4f6d-97dc-ac52b792c3bd",
   "metadata": {},
   "outputs": [
    {
     "name": "stdout",
     "output_type": "stream",
     "text": [
      "Predicted Class (0=no disease, 1=disease): 1\n"
     ]
    }
   ],
   "source": [
    "# Second Test Case - likely to result in a disease prediction (class = 1)\n",
    "sample_input_disease = {\n",
    "    'id': 1000,                # Dummy ID\n",
    "    'age': 67,\n",
    "    'sex': 1,                  # 1 = Male\n",
    "    'dataset': 1,\n",
    "    'cp': 0,                   # Typical angina\n",
    "    'trestbps': 160,           # High blood pressure\n",
    "    'chol': 300,               # High cholesterol\n",
    "    'fbs': 1,                  # High fasting blood sugar\n",
    "    'restecg': 2,\n",
    "    'thalch': 108,             # Low max heart rate\n",
    "    'exang': 1,                # Exercise-induced angina\n",
    "    'oldpeak': 3.5,            # ST depression\n",
    "    'slope': 0,\n",
    "    'ca': 2,\n",
    "    'thal': 3                  # Abnormal thalassemia\n",
    "}\n",
    "\n",
    "# Convert to DataFrame\n",
    "sample_df_disease = pd.DataFrame([sample_input_disease])\n",
    "\n",
    "# Reorder columns to match training data\n",
    "sample_df_disease = sample_df_disease[X.columns]\n",
    "\n",
    "# Scale input using same scaler as training data\n",
    "sample_scaled_disease = scaler.transform(sample_df_disease)\n",
    "\n",
    "# Predict\n",
    "prediction_disease = grid.best_estimator_.predict(sample_scaled_disease)\n",
    "print(f\"Predicted Class (0=no disease, 1=disease): {prediction_disease[0]}\")\n"
   ]
  },
  {
   "cell_type": "code",
   "execution_count": null,
   "id": "8d3cad10-b938-4ae9-8c9c-3d299091f99c",
   "metadata": {},
   "outputs": [],
   "source": []
  }
 ],
 "metadata": {
  "kernelspec": {
   "display_name": "Python 3 (ipykernel)",
   "language": "python",
   "name": "python3"
  },
  "language_info": {
   "codemirror_mode": {
    "name": "ipython",
    "version": 3
   },
   "file_extension": ".py",
   "mimetype": "text/x-python",
   "name": "python",
   "nbconvert_exporter": "python",
   "pygments_lexer": "ipython3",
   "version": "3.12.9"
  }
 },
 "nbformat": 4,
 "nbformat_minor": 5
}
